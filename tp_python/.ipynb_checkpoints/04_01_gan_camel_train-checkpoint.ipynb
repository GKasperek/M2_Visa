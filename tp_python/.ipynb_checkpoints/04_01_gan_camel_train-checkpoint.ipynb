{
 "cells": [
  {
   "cell_type": "markdown",
   "metadata": {},
   "source": [
    "# GAN Training"
   ]
  },
  {
   "cell_type": "markdown",
   "metadata": {},
   "source": [
    "## imports"
   ]
  },
  {
   "cell_type": "code",
   "execution_count": 1,
   "metadata": {},
   "outputs": [
    {
     "name": "stderr",
     "output_type": "stream",
     "text": [
      "Using TensorFlow backend.\n"
     ]
    }
   ],
   "source": [
    "import os\n",
    "import matplotlib.pyplot as plt\n",
    "\n",
    "from models.GAN import GAN\n",
    "from utils.loaders import load_safari\n"
   ]
  },
  {
   "cell_type": "code",
   "execution_count": 2,
   "metadata": {},
   "outputs": [],
   "source": [
    "# run params\n",
    "SECTION = 'gan'\n",
    "RUN_ID = '0001'\n",
    "DATA_NAME = 'camel'\n",
    "RUN_FOLDER = 'run/{}/'.format(SECTION)\n",
    "RUN_FOLDER += '_'.join([RUN_ID, DATA_NAME])\n",
    "\n",
    "if not os.path.exists(RUN_FOLDER):\n",
    "    os.mkdir(RUN_FOLDER)\n",
    "    os.mkdir(os.path.join(RUN_FOLDER, 'viz'))\n",
    "    os.mkdir(os.path.join(RUN_FOLDER, 'images'))\n",
    "    os.mkdir(os.path.join(RUN_FOLDER, 'weights'))\n",
    "\n",
    "mode =  'build' #'load' #"
   ]
  },
  {
   "cell_type": "markdown",
   "metadata": {},
   "source": [
    "## data"
   ]
  },
  {
   "cell_type": "code",
   "execution_count": 3,
   "metadata": {},
   "outputs": [],
   "source": [
    "(x_train, y_train) = load_safari(DATA_NAME)"
   ]
  },
  {
   "cell_type": "code",
   "execution_count": 4,
   "metadata": {},
   "outputs": [
    {
     "data": {
      "text/plain": [
       "(80000, 28, 28, 1)"
      ]
     },
     "execution_count": 4,
     "metadata": {},
     "output_type": "execute_result"
    }
   ],
   "source": [
    "x_train.shape"
   ]
  },
  {
   "cell_type": "code",
   "execution_count": 5,
   "metadata": {},
   "outputs": [
    {
     "data": {
      "text/plain": [
       "<matplotlib.image.AxesImage at 0xb45b3ca90>"
      ]
     },
     "execution_count": 5,
     "metadata": {},
     "output_type": "execute_result"
    },
    {
     "data": {
      "image/png": "[encoded data removed]",
      "text/plain": [
       "<Figure size 432x288 with 1 Axes>"
      ]
     },
     "metadata": {
      "needs_background": "light"
     },
     "output_type": "display_data"
    }
   ],
   "source": [
    "plt.imshow(x_train[200,:,:,0], cmap = 'gray')"
   ]
  },
  {
   "cell_type": "markdown",
   "metadata": {},
   "source": [
    "## architecture"
   ]
  },
  {
   "cell_type": "code",
   "execution_count": 6,
   "metadata": {},
   "outputs": [],
   "source": [
    "gan = GAN(input_dim = (28,28,1)\n",
    "        , discriminator_conv_filters = [64,64,128,128]\n",
    "        , discriminator_conv_kernel_size = [5,5,5,5]\n",
    "        , discriminator_conv_strides = [2,2,2,1]\n",
    "        , discriminator_batch_norm_momentum = None\n",
    "        , discriminator_activation = 'relu'\n",
    "        , discriminator_dropout_rate = 0.4\n",
    "        , discriminator_learning_rate = 0.0008\n",
    "        , generator_initial_dense_layer_size = (7, 7, 64)\n",
    "        , generator_upsample = [2,2, 1, 1]\n",
    "        , generator_conv_filters = [128,64, 64,1]\n",
    "        , generator_conv_kernel_size = [5,5,5,5]\n",
    "        , generator_conv_strides = [1,1, 1, 1]\n",
    "        , generator_batch_norm_momentum = 0.9\n",
    "        , generator_activation = 'relu'\n",
    "        , generator_dropout_rate = None\n",
    "        , generator_learning_rate = 0.0004\n",
    "        , optimiser = 'rmsprop'\n",
    "        , z_dim = 100\n",
    "        )\n",
    "\n",
    "if mode == 'build':\n",
    "    gan.save(RUN_FOLDER)\n",
    "else:\n",
    "    gan.load_weights(os.path.join(RUN_FOLDER, 'weights/weights.h5'))"
   ]
  },
  {
   "cell_type": "code",
   "execution_count": 7,
   "metadata": {},
   "outputs": [
    {
     "name": "stdout",
     "output_type": "stream",
     "text": [
      "Model: \"model_1\"\n",
      "_________________________________________________________________\n",
      "Layer (type)                 Output Shape              Param #   \n",
      "=================================================================\n",
      "discriminator_input (InputLa (None, 28, 28, 1)         0         \n",
      "_________________________________________________________________\n",
      "discriminator_conv_0 (Conv2D (None, 14, 14, 64)        1664      \n",
      "_________________________________________________________________\n",
      "activation_1 (Activation)    (None, 14, 14, 64)        0         \n",
      "_________________________________________________________________\n",
      "dropout_1 (Dropout)          (None, 14, 14, 64)        0         \n",
      "_________________________________________________________________\n",
      "discriminator_conv_1 (Conv2D (None, 7, 7, 64)          102464    \n",
      "_________________________________________________________________\n",
      "activation_2 (Activation)    (None, 7, 7, 64)          0         \n",
      "_________________________________________________________________\n",
      "dropout_2 (Dropout)          (None, 7, 7, 64)          0         \n",
      "_________________________________________________________________\n",
      "discriminator_conv_2 (Conv2D (None, 4, 4, 128)         204928    \n",
      "_________________________________________________________________\n",
      "activation_3 (Activation)    (None, 4, 4, 128)         0         \n",
      "_________________________________________________________________\n",
      "dropout_3 (Dropout)          (None, 4, 4, 128)         0         \n",
      "_________________________________________________________________\n",
      "discriminator_conv_3 (Conv2D (None, 4, 4, 128)         409728    \n",
      "_________________________________________________________________\n",
      "activation_4 (Activation)    (None, 4, 4, 128)         0         \n",
      "_________________________________________________________________\n",
      "dropout_4 (Dropout)          (None, 4, 4, 128)         0         \n",
      "_________________________________________________________________\n",
      "flatten_1 (Flatten)          (None, 2048)              0         \n",
      "_________________________________________________________________\n",
      "dense_1 (Dense)              (None, 1)                 2049      \n",
      "=================================================================\n",
      "Total params: 720,833\n",
      "Trainable params: 720,833\n",
      "Non-trainable params: 0\n",
      "_________________________________________________________________\n"
     ]
    }
   ],
   "source": [
    "gan.discriminator.summary()"
   ]
  },
  {
   "cell_type": "code",
   "execution_count": 8,
   "metadata": {},
   "outputs": [
    {
     "name": "stdout",
     "output_type": "stream",
     "text": [
      "Model: \"model_2\"\n",
      "_________________________________________________________________\n",
      "Layer (type)                 Output Shape              Param #   \n",
      "=================================================================\n",
      "generator_input (InputLayer) (None, 100)               0         \n",
      "_________________________________________________________________\n",
      "dense_2 (Dense)              (None, 3136)              316736    \n",
      "_________________________________________________________________\n",
      "batch_normalization_1 (Batch (None, 3136)              12544     \n",
      "_________________________________________________________________\n",
      "activation_5 (Activation)    (None, 3136)              0         \n",
      "_________________________________________________________________\n",
      "reshape_1 (Reshape)          (None, 7, 7, 64)          0         \n",
      "_________________________________________________________________\n",
      "up_sampling2d_1 (UpSampling2 (None, 14, 14, 64)        0         \n",
      "_________________________________________________________________\n",
      "generator_conv_0 (Conv2D)    (None, 14, 14, 128)       204928    \n",
      "_________________________________________________________________\n",
      "batch_normalization_2 (Batch (None, 14, 14, 128)       512       \n",
      "_________________________________________________________________\n",
      "activation_6 (Activation)    (None, 14, 14, 128)       0         \n",
      "_________________________________________________________________\n",
      "up_sampling2d_2 (UpSampling2 (None, 28, 28, 128)       0         \n",
      "_________________________________________________________________\n",
      "generator_conv_1 (Conv2D)    (None, 28, 28, 64)        204864    \n",
      "_________________________________________________________________\n",
      "batch_normalization_3 (Batch (None, 28, 28, 64)        256       \n",
      "_________________________________________________________________\n",
      "activation_7 (Activation)    (None, 28, 28, 64)        0         \n",
      "_________________________________________________________________\n",
      "generator_conv_2 (Conv2DTran (None, 28, 28, 64)        102464    \n",
      "_________________________________________________________________\n",
      "batch_normalization_4 (Batch (None, 28, 28, 64)        256       \n",
      "_________________________________________________________________\n",
      "activation_8 (Activation)    (None, 28, 28, 64)        0         \n",
      "_________________________________________________________________\n",
      "generator_conv_3 (Conv2DTran (None, 28, 28, 1)         1601      \n",
      "_________________________________________________________________\n",
      "activation_9 (Activation)    (None, 28, 28, 1)         0         \n",
      "=================================================================\n",
      "Total params: 844,161\n",
      "Trainable params: 837,377\n",
      "Non-trainable params: 6,784\n",
      "_________________________________________________________________\n"
     ]
    }
   ],
   "source": [
    "gan.generator.summary()"
   ]
  },
  {
   "cell_type": "markdown",
   "metadata": {},
   "source": [
    "## training"
   ]
  },
  {
   "cell_type": "code",
   "execution_count": 9,
   "metadata": {},
   "outputs": [],
   "source": [
    "BATCH_SIZE = 64\n",
    "EPOCHS = 50\n",
    "PRINT_EVERY_N_BATCHES = 5"
   ]
  },
  {
   "cell_type": "code",
   "execution_count": 10,
   "metadata": {
    "scrolled": false
   },
   "outputs": [
    {
     "name": "stderr",
     "output_type": "stream",
     "text": [
      "/anaconda3/lib/python3.7/site-packages/keras/engine/training.py:297: UserWarning: Discrepancy between trainable weights and collected trainable weights, did you set `model.trainable` without calling `model.compile` after ?\n",
      "  'Discrepancy between trainable weights and collected trainable'\n"
     ]
    },
    {
     "name": "stdout",
     "output_type": "stream",
     "text": [
      "0 [D loss: (0.728)(R 0.694, F 0.762)] [D acc: (0.203)(0.406, 0.000)] [G loss: 0.682] [G acc: 1.000]\n",
      "1 [D loss: (0.690)(R 0.666, F 0.714)] [D acc: (0.500)(1.000, 0.000)] [G loss: 0.608] [G acc: 1.000]\n",
      "2 [D loss: (1.074)(R 0.578, F 1.570)] [D acc: (0.500)(1.000, 0.000)] [G loss: 0.624] [G acc: 1.000]\n",
      "3 [D loss: (0.664)(R 0.609, F 0.719)] [D acc: (0.500)(1.000, 0.000)] [G loss: 0.569] [G acc: 1.000]\n",
      "4 [D loss: (0.657)(R 0.557, F 0.758)] [D acc: (0.500)(1.000, 0.000)] [G loss: 0.515] [G acc: 1.000]\n",
      "5 [D loss: (0.682)(R 0.473, F 0.891)] [D acc: (0.500)(1.000, 0.000)] [G loss: 0.479] [G acc: 1.000]\n",
      "6 [D loss: (0.721)(R 0.448, F 0.994)] [D acc: (0.500)(1.000, 0.000)] [G loss: 0.532] [G acc: 1.000]\n",
      "7 [D loss: (0.775)(R 0.510, F 1.040)] [D acc: (0.500)(1.000, 0.000)] [G loss: 0.586] [G acc: 1.000]\n",
      "8 [D loss: (0.663)(R 0.594, F 0.732)] [D acc: (0.500)(1.000, 0.000)] [G loss: 0.528] [G acc: 1.000]\n",
      "9 [D loss: (0.651)(R 0.553, F 0.749)] [D acc: (0.500)(1.000, 0.000)] [G loss: 0.392] [G acc: 1.000]\n",
      "10 [D loss: (0.652)(R 0.470, F 0.835)] [D acc: (0.500)(1.000, 0.000)] [G loss: 0.241] [G acc: 1.000]\n",
      "11 [D loss: (0.556)(R 0.396, F 0.716)] [D acc: (0.500)(1.000, 0.000)] [G loss: 0.025] [G acc: 1.000]\n",
      "12 [D loss: (0.433)(R 0.161, F 0.706)] [D acc: (0.500)(1.000, 0.000)] [G loss: 0.000] [G acc: 1.000]\n",
      "13 [D loss: (0.352)(R 0.012, F 0.692)] [D acc: (0.984)(1.000, 0.969)] [G loss: 0.000] [G acc: 1.000]\n",
      "14 [D loss: (0.349)(R 0.006, F 0.691)] [D acc: (0.992)(1.000, 0.984)] [G loss: 0.000] [G acc: 1.000]\n",
      "15 [D loss: (0.353)(R 0.002, F 0.704)] [D acc: (0.969)(1.000, 0.938)] [G loss: 0.000] [G acc: 1.000]\n",
      "16 [D loss: (0.343)(R 0.005, F 0.681)] [D acc: (0.984)(1.000, 0.969)] [G loss: 0.000] [G acc: 1.000]\n",
      "17 [D loss: (0.345)(R 0.002, F 0.688)] [D acc: (0.953)(1.000, 0.906)] [G loss: 0.000] [G acc: 1.000]\n",
      "18 [D loss: (0.297)(R 0.006, F 0.588)] [D acc: (0.977)(1.000, 0.953)] [G loss: 0.000] [G acc: 1.000]\n",
      "19 [D loss: (0.239)(R 0.010, F 0.468)] [D acc: (0.945)(1.000, 0.891)] [G loss: 0.023] [G acc: 1.000]\n",
      "20 [D loss: (0.653)(R 0.804, F 0.502)] [D acc: (0.789)(0.578, 1.000)] [G loss: 0.000] [G acc: 1.000]\n",
      "21 [D loss: (0.172)(R 0.000, F 0.344)] [D acc: (0.984)(1.000, 0.969)] [G loss: 0.000] [G acc: 1.000]\n",
      "22 [D loss: (0.151)(R 0.000, F 0.302)] [D acc: (0.977)(1.000, 0.953)] [G loss: 0.000] [G acc: 1.000]\n",
      "23 [D loss: (0.055)(R 0.003, F 0.106)] [D acc: (0.984)(1.000, 0.969)] [G loss: 0.000] [G acc: 1.000]\n",
      "24 [D loss: (0.252)(R 0.081, F 0.424)] [D acc: (0.914)(0.969, 0.859)] [G loss: 0.006] [G acc: 1.000]\n",
      "25 [D loss: (0.749)(R 0.392, F 1.106)] [D acc: (0.727)(0.859, 0.594)] [G loss: 0.031] [G acc: 1.000]\n",
      "26 [D loss: (0.319)(R 0.331, F 0.307)] [D acc: (0.883)(0.875, 0.891)] [G loss: 0.008] [G acc: 1.000]\n",
      "27 [D loss: (0.123)(R 0.163, F 0.084)] [D acc: (0.977)(0.969, 0.984)] [G loss: 0.001] [G acc: 1.000]\n",
      "28 [D loss: (0.131)(R 0.089, F 0.174)] [D acc: (0.961)(0.984, 0.938)] [G loss: 0.001] [G acc: 1.000]\n",
      "29 [D loss: (0.485)(R 0.128, F 0.843)] [D acc: (0.805)(0.953, 0.656)] [G loss: 0.018] [G acc: 1.000]\n",
      "30 [D loss: (0.762)(R 0.969, F 0.555)] [D acc: (0.672)(0.594, 0.750)] [G loss: 0.013] [G acc: 1.000]\n",
      "31 [D loss: (0.352)(R 0.144, F 0.561)] [D acc: (0.852)(1.000, 0.703)] [G loss: 0.016] [G acc: 1.000]\n",
      "32 [D loss: (0.615)(R 0.206, F 1.023)] [D acc: (0.750)(1.000, 0.500)] [G loss: 0.183] [G acc: 1.000]\n",
      "33 [D loss: (0.636)(R 0.458, F 0.815)] [D acc: (0.648)(0.906, 0.391)] [G loss: 0.239] [G acc: 1.000]\n",
      "34 [D loss: (1.100)(R 0.615, F 1.585)] [D acc: (0.359)(0.719, 0.000)] [G loss: 0.843] [G acc: 0.000]\n",
      "35 [D loss: (0.662)(R 0.608, F 0.716)] [D acc: (0.602)(1.000, 0.203)] [G loss: 0.711] [G acc: 0.250]\n",
      "36 [D loss: (0.713)(R 0.547, F 0.879)] [D acc: (0.500)(1.000, 0.000)] [G loss: 0.694] [G acc: 0.422]\n",
      "37 [D loss: (0.708)(R 0.573, F 0.842)] [D acc: (0.500)(1.000, 0.000)] [G loss: 0.687] [G acc: 0.703]\n",
      "38 [D loss: (0.678)(R 0.590, F 0.766)] [D acc: (0.500)(1.000, 0.000)] [G loss: 0.672] [G acc: 0.922]\n",
      "39 [D loss: (0.583)(R 0.581, F 0.586)] [D acc: (0.875)(0.984, 0.766)] [G loss: 0.644] [G acc: 0.812]\n",
      "40 [D loss: (0.762)(R 0.680, F 0.843)] [D acc: (0.336)(0.672, 0.000)] [G loss: 0.674] [G acc: 0.859]\n",
      "41 [D loss: (0.637)(R 0.495, F 0.779)] [D acc: (0.469)(0.938, 0.000)] [G loss: 0.678] [G acc: 0.719]\n",
      "42 [D loss: (0.614)(R 0.434, F 0.795)] [D acc: (0.492)(0.953, 0.031)] [G loss: 0.689] [G acc: 0.578]\n",
      "43 [D loss: (0.528)(R 0.324, F 0.732)] [D acc: (0.516)(0.953, 0.078)] [G loss: 0.713] [G acc: 0.078]\n",
      "44 [D loss: (0.422)(R 0.169, F 0.675)] [D acc: (0.852)(0.953, 0.750)] [G loss: 0.758] [G acc: 0.000]\n",
      "45 [D loss: (0.383)(R 0.117, F 0.649)] [D acc: (0.953)(0.969, 0.938)] [G loss: 0.852] [G acc: 0.000]\n",
      "46 [D loss: (0.329)(R 0.074, F 0.584)] [D acc: (0.977)(0.953, 1.000)] [G loss: 1.191] [G acc: 0.000]\n",
      "47 [D loss: (0.954)(R 0.028, F 1.879)] [D acc: (0.523)(0.984, 0.062)] [G loss: 1.676] [G acc: 0.000]\n",
      "48 [D loss: (0.990)(R 0.249, F 1.731)] [D acc: (0.508)(0.906, 0.109)] [G loss: 0.839] [G acc: 0.359]\n",
      "49 [D loss: (0.636)(R 0.733, F 0.540)] [D acc: (0.820)(0.750, 0.891)] [G loss: 1.251] [G acc: 0.000]\n"
     ]
    }
   ],
   "source": [
    "gan.train(     \n",
    "    x_train\n",
    "    , batch_size = BATCH_SIZE\n",
    "    , epochs = EPOCHS\n",
    "    , run_folder = RUN_FOLDER\n",
    "    , print_every_n_batches = PRINT_EVERY_N_BATCHES\n",
    ")"
   ]
  },
  {
   "cell_type": "code",
   "execution_count": 12,
   "metadata": {},
   "outputs": [
    {
     "data": {
      "image/png": "[encoded data removed]",
      "text/plain": [
       "<Figure size 432x288 with 1 Axes>"
      ]
     },
     "metadata": {
      "needs_background": "light"
     },
     "output_type": "display_data"
    }
   ],
   "source": [
    "fig = plt.figure()\n",
    "plt.plot([x[0] for x in gan.d_losses], color='black', linewidth=0.25)\n",
    "\n",
    "plt.plot([x[1] for x in gan.d_losses], color='green', linewidth=0.25)\n",
    "plt.plot([x[2] for x in gan.d_losses], color='red', linewidth=0.25)\n",
    "plt.plot([x[0] for x in gan.g_losses], color='orange', linewidth=0.25)\n",
    "\n",
    "plt.xlabel('batch', fontsize=18)\n",
    "plt.ylabel('loss', fontsize=16)\n",
    "\n",
    "plt.xlim(0, 2000)\n",
    "plt.ylim(0, 2)\n",
    "\n",
    "plt.show()\n"
   ]
  },
  {
   "cell_type": "code",
   "execution_count": 13,
   "metadata": {},
   "outputs": [
    {
     "data": {
      "image/png": "[encoded data removed]",
      "text/plain": [
       "<Figure size 432x288 with 1 Axes>"
      ]
     },
     "metadata": {
      "needs_background": "light"
     },
     "output_type": "display_data"
    }
   ],
   "source": [
    "fig = plt.figure()\n",
    "plt.plot([x[3] for x in gan.d_losses], color='black', linewidth=0.25)\n",
    "plt.plot([x[4] for x in gan.d_losses], color='green', linewidth=0.25)\n",
    "plt.plot([x[5] for x in gan.d_losses], color='red', linewidth=0.25)\n",
    "plt.plot([x[1] for x in gan.g_losses], color='orange', linewidth=0.25)\n",
    "\n",
    "plt.xlabel('batch', fontsize=18)\n",
    "plt.ylabel('accuracy', fontsize=16)\n",
    "\n",
    "plt.xlim(0, 2000)\n",
    "\n",
    "plt.show()"
   ]
  },
  {
   "cell_type": "code",
   "execution_count": null,
   "metadata": {},
   "outputs": [],
   "source": []
  },
  {
   "cell_type": "code",
   "execution_count": null,
   "metadata": {},
   "outputs": [],
   "source": []
  }
 ],
 "metadata": {
  "kernelspec": {
   "display_name": "Python 3",
   "language": "python",
   "name": "python3"
  },
  "language_info": {
   "codemirror_mode": {
    "name": "ipython",
    "version": 3
   },
   "file_extension": ".py",
   "mimetype": "text/x-python",
   "name": "python",
   "nbconvert_exporter": "python",
   "pygments_lexer": "ipython3",
   "version": "3.6.8"
  }
 },
 "nbformat": 4,
 "nbformat_minor": 2
}
